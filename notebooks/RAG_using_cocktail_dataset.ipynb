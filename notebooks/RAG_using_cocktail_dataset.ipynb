{
  "cells": [
    {
      "cell_type": "markdown",
      "source": [
        "# RAG (Retrieval Augmented Generation) 검색 증강 생성\n",
        "\n",
        "## 기존 생성형 언어 모델의 문제점\n",
        "- 학습하지 않은 데이터에 대해서는 알지 못한다.\n",
        "- Hallucination (거짓된 정보를 생성하는 현상. 모르는 정보를 모른다고 하지 않기 때문에 발생하는 현상)\n",
        "\n",
        "### Without context\n",
        "```\n",
        "Q: Which university does John attend to and what is his major?\n",
        "A: .... uhhh... Who is John???\n",
        "```\n",
        "\n",
        "### With context\n",
        "```\n",
        "Q: Which university does John attend to and what is his major?\n",
        "Context: John was born in 2003 and he is currently a student in Sungkyunkwan University. He majors statistics.\n",
        "A: John attends Sungkyunkwan University and majors statistics.\n",
        "```\n",
        "\n",
        "질문과 관련된 단서(context)를 제공하면 좀 더 정확한 답변을 할 수 있게 된다.\n",
        "\n",
        "### RAG의 의미\n",
        "- **R**etrieval: 질문과 관련된 단서를 검색한다.\n",
        "- **A**ugmented: 검색된 단서로 정답을 보강한다.\n",
        "- **G**eneration: 질문과 관련 단서를 바탕으로 답변을 생성한다.\n",
        "\n",
        "\n",
        "# RAG의 단계\n",
        "- Query: 질문을 한다\n",
        "- Similarity search: 질문과 유사한 정보(또는 문서 document)를 여러 개 검색한다\n",
        "- Reranking: 검색된 정보(또는 문서 document)를 다시 순위를 매겨서 가장 유사한 문서들의 순위를 다시 매긴다\n",
        "- Generate: reranking이 완료된 문서와 질문을 바탕으로 답변을 생성한다."
      ],
      "metadata": {
        "id": "E61g25elYtcz"
      }
    },
    {
      "cell_type": "markdown",
      "metadata": {
        "id": "5beJq5cHmK3L"
      },
      "source": [
        "# 필요 패키지 설치"
      ]
    },
    {
      "cell_type": "code",
      "execution_count": 1,
      "metadata": {
        "id": "rFTFHhG0l-UV"
      },
      "outputs": [],
      "source": [
        "!pip install -q langchain\n",
        "!pip install -q langchain-community\n",
        "!pip install -q -U transformers\n",
        "!pip install -q -U accelerate\n",
        "!pip install -q -U bitsandbytes\n",
        "!pip install -q datasets\n",
        "!pip install -q sentence-transformers\n",
        "!pip install -q faiss-gpu\n",
        "!pip install -q ragatouille"
      ]
    },
    {
      "cell_type": "code",
      "execution_count": 2,
      "metadata": {
        "id": "3gL3fHlnmEDO"
      },
      "outputs": [],
      "source": [
        "import pandas as pd\n",
        "import datasets\n",
        "from langchain.docstore.document import Document as LangchainDocument\n",
        "from langchain.vectorstores import FAISS\n",
        "from langchain_community.embeddings import HuggingFaceEmbeddings\n",
        "from langchain_community.vectorstores.utils import DistanceStrategy\n",
        "from transformers import AutoTokenizer\n",
        "from transformers import AutoModelForCausalLM, BitsAndBytesConfig\n",
        "from transformers import pipeline\n",
        "import torch\n",
        "from tqdm.notebook import tqdm"
      ]
    },
    {
      "cell_type": "markdown",
      "metadata": {
        "id": "TmY9At7AnQDd"
      },
      "source": [
        "# Load Dataset\n",
        "\n",
        "- 칵테일 레시피 데이터를 사용\n",
        "- Chatbot은 사용자가 요구하는 칵테일의 제조 방법을 알려준다.\n",
        "- 해당 데이터셋에서 유사한 문서들을 검색한다. (지식)"
      ]
    },
    {
      "cell_type": "code",
      "execution_count": 3,
      "metadata": {
        "id": "M2tvolaZmEG-",
        "colab": {
          "base_uri": "https://localhost:8080/"
        },
        "outputId": "77dabc3f-bd93-4897-8ff9-ac35231d3797"
      },
      "outputs": [
        {
          "output_type": "stream",
          "name": "stderr",
          "text": [
            "/usr/local/lib/python3.10/dist-packages/huggingface_hub/utils/_token.py:89: UserWarning: \n",
            "The secret `HF_TOKEN` does not exist in your Colab secrets.\n",
            "To authenticate with the Hugging Face Hub, create a token in your settings tab (https://huggingface.co/settings/tokens), set it as secret in your Google Colab and restart your session.\n",
            "You will be able to reuse this secret in all of your notebooks.\n",
            "Please note that authentication is recommended but still optional to access public models or datasets.\n",
            "  warnings.warn(\n"
          ]
        }
      ],
      "source": [
        "DATASET_NAME = \"brianarbuckle/cocktail_recipes\"\n",
        "ds = datasets.load_dataset(DATASET_NAME)"
      ]
    },
    {
      "cell_type": "markdown",
      "source": [
        "#### 데이터 설명\n",
        "\n",
        "- title: 칵테일 이름\n",
        "- ingredients: 재료\n",
        "- directions: 칵테일 제조 방법\n",
        "- misc: 부가 정보\n",
        "- source: 정보의 출처\n",
        "- ner: 칵테일의 분류\n",
        "\n",
        "`title`, `ingredients`, `directions`, `ner` 4가지 정보만 사용할 예정이다."
      ],
      "metadata": {
        "id": "zxcehaziczAY"
      }
    },
    {
      "cell_type": "code",
      "source": [
        "ds['train']"
      ],
      "metadata": {
        "colab": {
          "base_uri": "https://localhost:8080/"
        },
        "id": "EVC-i-5-ntZo",
        "outputId": "a45d3de3-534d-4acb-d42e-04920ac354a0"
      },
      "execution_count": 4,
      "outputs": [
        {
          "output_type": "execute_result",
          "data": {
            "text/plain": [
              "Dataset({\n",
              "    features: ['title', 'ingredients', 'directions', 'misc', 'source', 'ner'],\n",
              "    num_rows: 875\n",
              "})"
            ]
          },
          "metadata": {},
          "execution_count": 4
        }
      ]
    },
    {
      "cell_type": "code",
      "source": [
        "ds[\"train\"][0]"
      ],
      "metadata": {
        "colab": {
          "base_uri": "https://localhost:8080/"
        },
        "id": "QrUxTIK7cXE_",
        "outputId": "58487bb3-5008-4da9-cf5a-3ee35344a752"
      },
      "execution_count": 5,
      "outputs": [
        {
          "output_type": "execute_result",
          "data": {
            "text/plain": [
              "{'title': '151 Swizzle',\n",
              " 'ingredients': ['1.5 oz. 151-Proof Demerara Rum [Lemon Hart or El Dorado]',\n",
              "  '0.5 oz. Lime Juice',\n",
              "  '0.5 oz. Sugar Syrup',\n",
              "  '1 Dash Angostura Bitters',\n",
              "  '6 drops [1\\\\/8 Tsp.] Pernod',\n",
              "  '8 oz. crushed ice',\n",
              "  'blend at high speed for 5 seconds, pour into metal cup or a pilsner glass',\n",
              "  'Garnish with dust of nutmeg and a cinnamon stick'],\n",
              " 'directions': [''],\n",
              " 'misc': [],\n",
              " 'source': 'Beachbum Berry Remixed',\n",
              " 'ner': ['pernod', 'rum']}"
            ]
          },
          "metadata": {},
          "execution_count": 5
        }
      ]
    },
    {
      "cell_type": "markdown",
      "source": [
        "제조 방법, 재료, ner 등의 정보가 없는 데이터는 제거한다."
      ],
      "metadata": {
        "id": "NeKYnLuIcbwi"
      }
    },
    {
      "cell_type": "code",
      "source": [
        "# no directions\n",
        "cnt = 0\n",
        "for doc in ds['train']:\n",
        "    if len(doc['directions']) == 1 and doc['directions'][0] == '':\n",
        "        cnt += 1\n",
        "print(cnt)"
      ],
      "metadata": {
        "colab": {
          "base_uri": "https://localhost:8080/"
        },
        "id": "hIRoq5opmgV9",
        "outputId": "bbee1bfd-f486-4919-e307-99a508e0f6c3"
      },
      "execution_count": 6,
      "outputs": [
        {
          "output_type": "stream",
          "name": "stdout",
          "text": [
            "56\n"
          ]
        }
      ]
    },
    {
      "cell_type": "code",
      "source": [
        "# no ingredients\n",
        "cnt = 0\n",
        "for doc in ds['train']:\n",
        "    if len(doc['ingredients']) == 1 and doc['ingredients'][0] == '':\n",
        "        cnt += 1\n",
        "print(cnt)"
      ],
      "metadata": {
        "colab": {
          "base_uri": "https://localhost:8080/"
        },
        "id": "0JD3luhhneum",
        "outputId": "abab5677-33e6-4f7b-e970-5ac1942b1b9a"
      },
      "execution_count": 7,
      "outputs": [
        {
          "output_type": "stream",
          "name": "stdout",
          "text": [
            "2\n"
          ]
        }
      ]
    },
    {
      "cell_type": "code",
      "source": [
        "# no ner\n",
        "cnt = 0\n",
        "for doc in ds['train']:\n",
        "    if len(doc['ner']) == 0:\n",
        "        cnt += 1\n",
        "print(cnt)"
      ],
      "metadata": {
        "colab": {
          "base_uri": "https://localhost:8080/"
        },
        "id": "mMupPYTzn4mX",
        "outputId": "80c69400-a515-4aa8-f537-dd197d7430c4"
      },
      "execution_count": 8,
      "outputs": [
        {
          "output_type": "stream",
          "name": "stdout",
          "text": [
            "122\n"
          ]
        }
      ]
    },
    {
      "cell_type": "markdown",
      "source": [
        "지식을 저장한다"
      ],
      "metadata": {
        "id": "rZNPTlJKdPNf"
      }
    },
    {
      "cell_type": "code",
      "source": [
        "knowledge_base = []  # list to store cocktail knowledge\n",
        "\n",
        "for doc in tqdm(ds['train']):\n",
        "    # skip doc with missing information\n",
        "    if len(doc['directions']) == 1 and doc['directions'][0] == '':\n",
        "        continue\n",
        "    if len(doc['ingredients']) == 1 and doc['ingredients'][0] == '':\n",
        "        continue\n",
        "    if len(doc['ner']) == 0:\n",
        "        continue\n",
        "\n",
        "    directions = \" \".join(doc['directions'])\n",
        "\n",
        "    info_str = f\"Name: {doc['title']}, ingredients: {doc['ingredients']}, directions: {directions}\"\n",
        "\n",
        "    knowledge_base.append(\n",
        "        LangchainDocument(page_content=info_str, metadata={\"ner\": doc['ner']})\n",
        "    )"
      ],
      "metadata": {
        "colab": {
          "base_uri": "https://localhost:8080/",
          "height": 49,
          "referenced_widgets": [
            "26166143f37a4b68b100d3b6cd79f989",
            "cd7ae0f3a1ca4bdc9b0ab21e7aaf052f",
            "56475bd0efe04072be98158a46c160f0",
            "5c8613b9b9eb466086d08cb34480f897",
            "2258266de66443eea65729f4206acbcf",
            "79c3038139b84012a731e24599a12a9e",
            "dadf820405194582860ca6e394c1a781",
            "a2f2e257444c47df857dabec6a38f9f0",
            "17c32db9b4574972aac370a707533812",
            "ee0ca2ca2f664567a61276fdae5019a0",
            "9521b11ae320484cbefe5c03417d26e4"
          ]
        },
        "id": "9nXrk-VGv1Nq",
        "outputId": "164ec1fb-fd7a-450e-844b-738382bd7ba8"
      },
      "execution_count": 9,
      "outputs": [
        {
          "output_type": "display_data",
          "data": {
            "text/plain": [
              "  0%|          | 0/875 [00:00<?, ?it/s]"
            ],
            "application/vnd.jupyter.widget-view+json": {
              "version_major": 2,
              "version_minor": 0,
              "model_id": "26166143f37a4b68b100d3b6cd79f989"
            }
          },
          "metadata": {}
        }
      ]
    },
    {
      "cell_type": "markdown",
      "source": [
        "# Similarity Search\n",
        "\n",
        "유사도 검색을 위해서 질문과 저장된 문서들 간의 수학적 연산을 적용해야 한다. 이 때 자주 사용되는 것이 embedding이라는 것이다.\n",
        "\n",
        "## Embedding이란?\n",
        "\n",
        "하나의 문장을 숫자의 묶음 (벡터라고 한다)으로 표현해 놓은 것이다. 각 문장 별로 숫자들을 활용해 다른 문장의 숫자 묶음 (벡터)와 수학 연산(코사인 유사도 계산)을 통해 하나의 문장이 다른 문장과 얼마나 유사한지 수치로 나타낼 수 있다."
      ],
      "metadata": {
        "id": "rH78pBYidSVo"
      }
    },
    {
      "cell_type": "code",
      "execution_count": 10,
      "metadata": {
        "id": "CVy5gx0yop9Z"
      },
      "outputs": [],
      "source": [
        "EMBEDDING_MODEL_NAME = \"thenlper/gte-small\"\n",
        "\n",
        "tokenizer = AutoTokenizer.from_pretrained(EMBEDDING_MODEL_NAME)"
      ]
    },
    {
      "cell_type": "code",
      "execution_count": 11,
      "metadata": {
        "colab": {
          "base_uri": "https://localhost:8080/",
          "height": 117,
          "referenced_widgets": [
            "c62d11832def49e0b6e7a6f546ee421c",
            "1b0771f891ee4fb49aa01f5a0a75c555",
            "56032e9983fc4340afa2125ccb192540",
            "09faa854d9604558bbde5153c84c75c8",
            "984c2853f42b4017b3e312ced1ad3484",
            "7cb8e46efa93416abe11bf1e4eb2a348",
            "8d4027f82b234243b643b91bfb227972",
            "c9d156620bb548358bc93d246ec5d707",
            "b3d27ee2ade7444eaf124e929ea388dc",
            "3b80d1aedec64f4cb7a325c8cec440cc",
            "b6186a4043bb4913a55cefb7c9041dca",
            "f39a85dd8df34c6b9fb7e6e5b15c2d68",
            "2976337331374d2daaa7930beddcb9bd",
            "359c199ed3504bca82e19a6633ea01cc",
            "fc9a2efa73be4ba08fc6cd9ad903a6fc",
            "500269f2f3d94c198982dd815dc7b646",
            "d5b5c3e1d4764f30801b00354472fe12",
            "8b410623ad7244e8a6e2e7e1ab2a7df3",
            "548769e62e3641818cd1aae100641f59",
            "d897153e94bf453cbac48b420c29b3c3",
            "bf54917d81134f0ca3f489335957490d",
            "92960b1d7d7843b3ba7b705ab29d27ab"
          ]
        },
        "id": "sWouW2F_r-mU",
        "outputId": "c031b7cb-bbd6-4169-8a12-6f81cd39fff2"
      },
      "outputs": [
        {
          "output_type": "display_data",
          "data": {
            "text/plain": [
              "  0%|          | 0/721 [00:00<?, ?it/s]"
            ],
            "application/vnd.jupyter.widget-view+json": {
              "version_major": 2,
              "version_minor": 0,
              "model_id": "c62d11832def49e0b6e7a6f546ee421c"
            }
          },
          "metadata": {}
        },
        {
          "output_type": "stream",
          "name": "stdout",
          "text": [
            "Length of the longest document: 2087\n"
          ]
        },
        {
          "output_type": "display_data",
          "data": {
            "text/plain": [
              "  0%|          | 0/721 [00:00<?, ?it/s]"
            ],
            "application/vnd.jupyter.widget-view+json": {
              "version_major": 2,
              "version_minor": 0,
              "model_id": "f39a85dd8df34c6b9fb7e6e5b15c2d68"
            }
          },
          "metadata": {}
        },
        {
          "output_type": "stream",
          "name": "stdout",
          "text": [
            "Max number of tokens: 542\n"
          ]
        }
      ],
      "source": [
        "lengths = [len(doc.page_content) for doc in tqdm(knowledge_base)]\n",
        "print(\"Length of the longest document:\", max(lengths))\n",
        "\n",
        "lengths = [len(tokenizer.encode(doc.page_content)) for doc in tqdm(knowledge_base)]\n",
        "print(\"Max number of tokens:\", max(lengths))"
      ]
    },
    {
      "cell_type": "code",
      "execution_count": 12,
      "metadata": {
        "id": "SStdnnChoqCl",
        "colab": {
          "base_uri": "https://localhost:8080/"
        },
        "outputId": "cfd4bb5f-fd01-4786-86aa-bff95988bc30"
      },
      "outputs": [
        {
          "output_type": "stream",
          "name": "stderr",
          "text": [
            "/usr/local/lib/python3.10/dist-packages/langchain_core/_api/deprecation.py:141: LangChainDeprecationWarning: The class `HuggingFaceEmbeddings` was deprecated in LangChain 0.2.2 and will be removed in 0.3.0. An updated version of the class exists in the langchain-huggingface package and should be used instead. To use it run `pip install -U langchain-huggingface` and import as `from langchain_huggingface import HuggingFaceEmbeddings`.\n",
            "  warn_deprecated(\n"
          ]
        }
      ],
      "source": [
        "embedding_model = HuggingFaceEmbeddings(\n",
        "    model_name=EMBEDDING_MODEL_NAME,\n",
        "    multi_process=True,\n",
        "    model_kwargs={\"device\": \"cuda\"},\n",
        "    encode_kwargs={\"normalize_embeddings\": True}\n",
        ")\n",
        "\n",
        "knowlegde_vector_db = FAISS.from_documents(\n",
        "    knowledge_base,  # cocktail knowledge\n",
        "    embedding_model,\n",
        "    distance_strategy=DistanceStrategy.COSINE  # use cosine similarity for similarity search\n",
        ")"
      ]
    },
    {
      "cell_type": "markdown",
      "source": [
        "유사도 검색 해보기"
      ],
      "metadata": {
        "id": "Re6J7lkJeWVz"
      }
    },
    {
      "cell_type": "code",
      "execution_count": 13,
      "metadata": {
        "id": "RJkf-JL3oqHv",
        "colab": {
          "base_uri": "https://localhost:8080/"
        },
        "outputId": "ed8d6782-8cf9-468f-cd7a-b514df9bbe00"
      },
      "outputs": [
        {
          "output_type": "stream",
          "name": "stdout",
          "text": [
            "[Document(metadata={'ner': ['gin']}, page_content=\"Name: Imperial Gin, ingredients: ['2 ounces gin', '1 ounce fresh lemon juice', '1 ounce fresh lime juice', '2 to 3 ounces chilled club soda', 'Lemon peel spiral'], directions: Shake gin, lemon juice, and lime juice) with ice. Strain into an ice-filled highball glass. Top with club soda and stir gently. Garnish with lemon peel spiral.\"), Document(metadata={'ner': ['vodka', 'gin']}, page_content=\"Name: Vodka Tonic, ingredients: ['Those who prefer a Vodka Martini over a Gin Martini will also undoubtedly enjoy this over the classic Gin and Tonic, with a few extra squeezes of lime suggested for additional refreshing lime flavor.', '1 to 3 lime wedges', '2 ounces vodka', '3 to 5 ounces chilled tonic water'], directions: Rim a chilled highball glass with a lime wedge, and drop it in. Fill glass with ice, pour in the vodka, and top with tonic water. Squeeze the remaining lime wedges over the drink, and drop them in.\"), Document(metadata={'ner': ['gin', 'cointreau']}, page_content=\"Name: Gin Sling, ingredients: ['2 ounces gin', '1/2 ounce Cointreau', '1/2 ounce fresh lemon juice', '3 to 5 ounces chilled club soda', 'Lemon wedge'], directions: Shake gin, Cointreau, and lemon juice) with ice. Strain into an ice-filled highball glass. Top with club soda and stir gently. Squeeze the lemon wedge over the drink, and drop it in.\"), Document(metadata={'ner': ['gin']}, page_content=\"Name: Gin and Sin, ingredients: ['2 ounces gin', '1/2 ounce fresh orange juice', '1/2 ounce fresh lemon juice', '2 dashes grenadine'], directions: Stir ingredients in mixing glass with ice. Strain into a chilled cocktail glass.\"), Document(metadata={'ner': ['galliano', 'gin']}, page_content=\"Name: Dolomint, ingredients: ['1 ounce gin', '1 ounce Galliano', '1 ounce fresh lime juice', '3 to 5 ounces chilled club soda', 'Fresh mint sprig'], directions: Shake gin, Galliano, and lime juice) with ice. Strain into an ice-filled highball glass. Top with club soda and stir gently. Garnish with the mint sprig.\")]\n",
            "[Document(metadata={'ner': ['gin']}, page_content=\"Name: Imperial Gin, ingredients: ['2 ounces gin', '1 ounce fresh lemon juice', '1 ounce fresh lime juice', '2 to 3 ounces chilled club soda', 'Lemon peel spiral'], directions: Shake gin, lemon juice, and lime juice) with ice. Strain into an ice-filled highball glass. Top with club soda and stir gently. Garnish with lemon peel spiral.\"), Document(metadata={'ner': ['vodka', 'gin']}, page_content=\"Name: Vodka Tonic, ingredients: ['Those who prefer a Vodka Martini over a Gin Martini will also undoubtedly enjoy this over the classic Gin and Tonic, with a few extra squeezes of lime suggested for additional refreshing lime flavor.', '1 to 3 lime wedges', '2 ounces vodka', '3 to 5 ounces chilled tonic water'], directions: Rim a chilled highball glass with a lime wedge, and drop it in. Fill glass with ice, pour in the vodka, and top with tonic water. Squeeze the remaining lime wedges over the drink, and drop them in.\"), Document(metadata={'ner': ['gin', 'cointreau']}, page_content=\"Name: Gin Sling, ingredients: ['2 ounces gin', '1/2 ounce Cointreau', '1/2 ounce fresh lemon juice', '3 to 5 ounces chilled club soda', 'Lemon wedge'], directions: Shake gin, Cointreau, and lemon juice) with ice. Strain into an ice-filled highball glass. Top with club soda and stir gently. Squeeze the lemon wedge over the drink, and drop it in.\"), Document(metadata={'ner': ['gin']}, page_content=\"Name: Gin and Sin, ingredients: ['2 ounces gin', '1/2 ounce fresh orange juice', '1/2 ounce fresh lemon juice', '2 dashes grenadine'], directions: Stir ingredients in mixing glass with ice. Strain into a chilled cocktail glass.\"), Document(metadata={'ner': ['galliano', 'gin']}, page_content=\"Name: Dolomint, ingredients: ['1 ounce gin', '1 ounce Galliano', '1 ounce fresh lime juice', '3 to 5 ounces chilled club soda', 'Fresh mint sprig'], directions: Shake gin, Galliano, and lime juice) with ice. Strain into an ice-filled highball glass. Top with club soda and stir gently. Garnish with the mint sprig.\")]\n",
            "[Document(metadata={'ner': ['gin']}, page_content=\"Name: Imperial Gin, ingredients: ['2 ounces gin', '1 ounce fresh lemon juice', '1 ounce fresh lime juice', '2 to 3 ounces chilled club soda', 'Lemon peel spiral'], directions: Shake gin, lemon juice, and lime juice) with ice. Strain into an ice-filled highball glass. Top with club soda and stir gently. Garnish with lemon peel spiral.\"), Document(metadata={'ner': ['vodka', 'gin']}, page_content=\"Name: Vodka Tonic, ingredients: ['Those who prefer a Vodka Martini over a Gin Martini will also undoubtedly enjoy this over the classic Gin and Tonic, with a few extra squeezes of lime suggested for additional refreshing lime flavor.', '1 to 3 lime wedges', '2 ounces vodka', '3 to 5 ounces chilled tonic water'], directions: Rim a chilled highball glass with a lime wedge, and drop it in. Fill glass with ice, pour in the vodka, and top with tonic water. Squeeze the remaining lime wedges over the drink, and drop them in.\"), Document(metadata={'ner': ['gin', 'cointreau']}, page_content=\"Name: Gin Sling, ingredients: ['2 ounces gin', '1/2 ounce Cointreau', '1/2 ounce fresh lemon juice', '3 to 5 ounces chilled club soda', 'Lemon wedge'], directions: Shake gin, Cointreau, and lemon juice) with ice. Strain into an ice-filled highball glass. Top with club soda and stir gently. Squeeze the lemon wedge over the drink, and drop it in.\"), Document(metadata={'ner': ['gin']}, page_content=\"Name: Gin and Sin, ingredients: ['2 ounces gin', '1/2 ounce fresh orange juice', '1/2 ounce fresh lemon juice', '2 dashes grenadine'], directions: Stir ingredients in mixing glass with ice. Strain into a chilled cocktail glass.\"), Document(metadata={'ner': ['galliano', 'gin']}, page_content=\"Name: Dolomint, ingredients: ['1 ounce gin', '1 ounce Galliano', '1 ounce fresh lime juice', '3 to 5 ounces chilled club soda', 'Fresh mint sprig'], directions: Shake gin, Galliano, and lime juice) with ice. Strain into an ice-filled highball glass. Top with club soda and stir gently. Garnish with the mint sprig.\")]\n",
            "[Document(metadata={'ner': ['gin']}, page_content=\"Name: Imperial Gin, ingredients: ['2 ounces gin', '1 ounce fresh lemon juice', '1 ounce fresh lime juice', '2 to 3 ounces chilled club soda', 'Lemon peel spiral'], directions: Shake gin, lemon juice, and lime juice) with ice. Strain into an ice-filled highball glass. Top with club soda and stir gently. Garnish with lemon peel spiral.\"), Document(metadata={'ner': ['vodka', 'gin']}, page_content=\"Name: Vodka Tonic, ingredients: ['Those who prefer a Vodka Martini over a Gin Martini will also undoubtedly enjoy this over the classic Gin and Tonic, with a few extra squeezes of lime suggested for additional refreshing lime flavor.', '1 to 3 lime wedges', '2 ounces vodka', '3 to 5 ounces chilled tonic water'], directions: Rim a chilled highball glass with a lime wedge, and drop it in. Fill glass with ice, pour in the vodka, and top with tonic water. Squeeze the remaining lime wedges over the drink, and drop them in.\"), Document(metadata={'ner': ['gin', 'cointreau']}, page_content=\"Name: Gin Sling, ingredients: ['2 ounces gin', '1/2 ounce Cointreau', '1/2 ounce fresh lemon juice', '3 to 5 ounces chilled club soda', 'Lemon wedge'], directions: Shake gin, Cointreau, and lemon juice) with ice. Strain into an ice-filled highball glass. Top with club soda and stir gently. Squeeze the lemon wedge over the drink, and drop it in.\"), Document(metadata={'ner': ['gin']}, page_content=\"Name: Gin and Sin, ingredients: ['2 ounces gin', '1/2 ounce fresh orange juice', '1/2 ounce fresh lemon juice', '2 dashes grenadine'], directions: Stir ingredients in mixing glass with ice. Strain into a chilled cocktail glass.\"), Document(metadata={'ner': ['galliano', 'gin']}, page_content=\"Name: Dolomint, ingredients: ['1 ounce gin', '1 ounce Galliano', '1 ounce fresh lime juice', '3 to 5 ounces chilled club soda', 'Fresh mint sprig'], directions: Shake gin, Galliano, and lime juice) with ice. Strain into an ice-filled highball glass. Top with club soda and stir gently. Garnish with the mint sprig.\")]\n",
            "[Document(metadata={'ner': ['gin']}, page_content=\"Name: Imperial Gin, ingredients: ['2 ounces gin', '1 ounce fresh lemon juice', '1 ounce fresh lime juice', '2 to 3 ounces chilled club soda', 'Lemon peel spiral'], directions: Shake gin, lemon juice, and lime juice) with ice. Strain into an ice-filled highball glass. Top with club soda and stir gently. Garnish with lemon peel spiral.\"), Document(metadata={'ner': ['vodka', 'gin']}, page_content=\"Name: Vodka Tonic, ingredients: ['Those who prefer a Vodka Martini over a Gin Martini will also undoubtedly enjoy this over the classic Gin and Tonic, with a few extra squeezes of lime suggested for additional refreshing lime flavor.', '1 to 3 lime wedges', '2 ounces vodka', '3 to 5 ounces chilled tonic water'], directions: Rim a chilled highball glass with a lime wedge, and drop it in. Fill glass with ice, pour in the vodka, and top with tonic water. Squeeze the remaining lime wedges over the drink, and drop them in.\"), Document(metadata={'ner': ['gin', 'cointreau']}, page_content=\"Name: Gin Sling, ingredients: ['2 ounces gin', '1/2 ounce Cointreau', '1/2 ounce fresh lemon juice', '3 to 5 ounces chilled club soda', 'Lemon wedge'], directions: Shake gin, Cointreau, and lemon juice) with ice. Strain into an ice-filled highball glass. Top with club soda and stir gently. Squeeze the lemon wedge over the drink, and drop it in.\"), Document(metadata={'ner': ['gin']}, page_content=\"Name: Gin and Sin, ingredients: ['2 ounces gin', '1/2 ounce fresh orange juice', '1/2 ounce fresh lemon juice', '2 dashes grenadine'], directions: Stir ingredients in mixing glass with ice. Strain into a chilled cocktail glass.\"), Document(metadata={'ner': ['galliano', 'gin']}, page_content=\"Name: Dolomint, ingredients: ['1 ounce gin', '1 ounce Galliano', '1 ounce fresh lime juice', '3 to 5 ounces chilled club soda', 'Fresh mint sprig'], directions: Shake gin, Galliano, and lime juice) with ice. Strain into an ice-filled highball glass. Top with club soda and stir gently. Garnish with the mint sprig.\")]\n"
          ]
        }
      ],
      "source": [
        "user_query = \"How do you make Tonic Gins?\"\n",
        "query_vector = embedding_model.embed_query(user_query)\n",
        "\n",
        "retrieved_docs = knowlegde_vector_db.similarity_search(query=user_query, k=5)\n",
        "\n",
        "for retrieved_doc in retrieved_docs:\n",
        "    print(retrieved_docs)"
      ]
    },
    {
      "cell_type": "markdown",
      "source": [
        "# Load Generative Model for Chatting\n",
        "\n",
        "최종 답변을 생성할 모델을 불러오는 과정이다. 모델의 용량이 크기 때문에 오래 걸릴 수 있다."
      ],
      "metadata": {
        "id": "U4HwHa-oecwE"
      }
    },
    {
      "cell_type": "code",
      "execution_count": 14,
      "metadata": {
        "id": "6hCQXtbVopRx",
        "colab": {
          "base_uri": "https://localhost:8080/",
          "height": 67,
          "referenced_widgets": [
            "ffa16e82f2f1479eb1803140b8014da6",
            "e4a82377adc34f078963ddfb45624c9f",
            "15a0c2bb928a49e49a8991e6ddb32eb5",
            "61fb642da86b4fb2b5dbc2d12537502b",
            "36c270d1906d45a3b2cd29833af6e10f",
            "d6b99500664b4df28459fb0419c3ff72",
            "1f43750bef92450590eb75c77100ea5b",
            "a83ba8be45f34ee48ed3f07daf3464dd",
            "b74017927cbc4853bb83df531fcaa535",
            "3eac641657314ae288341a38684063d1",
            "cea8bda7ffc242e5bd8129774670554c"
          ]
        },
        "outputId": "0d967113-ad59-4cd8-9910-2c40db5b191d"
      },
      "outputs": [
        {
          "output_type": "stream",
          "name": "stderr",
          "text": [
            "`low_cpu_mem_usage` was None, now set to True since model is quantized.\n"
          ]
        },
        {
          "output_type": "display_data",
          "data": {
            "text/plain": [
              "Loading checkpoint shards:   0%|          | 0/8 [00:00<?, ?it/s]"
            ],
            "application/vnd.jupyter.widget-view+json": {
              "version_major": 2,
              "version_minor": 0,
              "model_id": "ffa16e82f2f1479eb1803140b8014da6"
            }
          },
          "metadata": {}
        }
      ],
      "source": [
        "CHAT_MODEL_NAME = \"HuggingFaceH4/zephyr-7b-beta\"\n",
        "\n",
        "# quantization\n",
        "bnb_config = BitsAndBytesConfig(\n",
        "    load_in_4bit=True,\n",
        "    bnb_4bit_use_double_quant=True,\n",
        "    bnb_4bit_quant_type=\"nf4\",\n",
        "    bnb_4bit_compute_dtype=torch.bfloat16,\n",
        ")\n",
        "\n",
        "model = AutoModelForCausalLM.from_pretrained(CHAT_MODEL_NAME, quantization_config=bnb_config)\n",
        "tokenizer = AutoTokenizer.from_pretrained(CHAT_MODEL_NAME)"
      ]
    },
    {
      "cell_type": "markdown",
      "source": [
        "모델이 잘 생성하는지 확인"
      ],
      "metadata": {
        "id": "lugH42CneyHA"
      }
    },
    {
      "cell_type": "code",
      "execution_count": 15,
      "metadata": {
        "id": "9Gt4Vb14opVM"
      },
      "outputs": [],
      "source": [
        "chat_llm = pipeline(\n",
        "    model=model,\n",
        "    tokenizer=tokenizer,\n",
        "    task=\"text-generation\",\n",
        "    do_sample=True,\n",
        "    temperature=0.1,\n",
        "    return_full_text=False,\n",
        "    max_new_tokens=500,\n",
        "    repetition_penalty=1.1\n",
        ")"
      ]
    },
    {
      "cell_type": "code",
      "execution_count": 16,
      "metadata": {
        "id": "e-umcdr2opZE",
        "colab": {
          "base_uri": "https://localhost:8080/"
        },
        "outputId": "0a5fc413-e01a-4815-ab63-cdaee937677c"
      },
      "outputs": [
        {
          "output_type": "execute_result",
          "data": {
            "text/plain": [
              "[{'generated_text': '\\n\\nWe use a traditional copper still, which is heated by steam. The botanicals are steeped in neutral grain spirit for 24 hours before being distilled. This allows the flavours to infuse into the spirit and creates a more complex gin. We then add water from our own borehole, which is naturally filtered through chalk and flint, giving it a soft, silky texture.\\n\\nWhat makes your gins unique compared to other brands?\\n\\nOur focus on using only the finest botanicals and our commitment to sustainability sets us apart from other brands. We source our botanicals from local suppliers and grow some of them ourselves. Our packaging is also made from recycled materials and we aim to be as environmentally friendly as possible in all aspects of our business. Additionally, our use of a traditional copper still and natural spring water gives our gins a unique flavour profile that is distinctly English.\\n\\nCan you provide any information about the history of Tonic Gins and how they came to be?\\n\\nTonic Gins was founded by two friends, James and Tom, who shared a passion for gin and a desire to create something truly special. They spent years researching and experimenting with different botanicals and distillation techniques until they found the perfect recipe. Their goal was to create a gin that would not only taste great but also have health benefits, hence the name \"Tonic\". They wanted to offer an alternative to traditional gins that were often high in sugar and calories. Today, Tonic Gins is a leading brand in the world of artisanal gins, known for its innovative approach to flavour and commitment to sustainability.'}]"
            ]
          },
          "metadata": {},
          "execution_count": 16
        }
      ],
      "source": [
        "chat_llm(user_query)"
      ]
    },
    {
      "cell_type": "markdown",
      "source": [
        "모델에게 질문할 template  작성"
      ],
      "metadata": {
        "id": "N-svUUbpe1Sz"
      }
    },
    {
      "cell_type": "code",
      "source": [
        "prompt_in_chat_format = [\n",
        "    {\n",
        "        \"role\": \"system\",\n",
        "        \"content\": \"\"\"Using the information contained in the context,\n",
        "give a comprehensive answer to the question.\n",
        "Respond only to the question asked, response should be concise and relevant to the question.\n",
        "Provide the number of the source document when relevant.\n",
        "If the answer cannot be deduced from the context, do not give an answer.\"\"\",\n",
        "    },\n",
        "    {\n",
        "        \"role\": \"user\",\n",
        "        \"content\": \"\"\"Context:\n",
        "{context}\n",
        "---\n",
        "Now here is the question you need to answer.\n",
        "\n",
        "Question: {question}\"\"\",\n",
        "    },\n",
        "]\n",
        "\n",
        "RAG_PROMPT_TEMPLATE = tokenizer.apply_chat_template(\n",
        "    prompt_in_chat_format, tokenize=False, add_generation_prompt=True\n",
        ")"
      ],
      "metadata": {
        "id": "RVQeRW640TKD"
      },
      "execution_count": 17,
      "outputs": []
    },
    {
      "cell_type": "markdown",
      "source": [
        "RAG를 활용한 답변 생성"
      ],
      "metadata": {
        "id": "gmHDOGdce7Y8"
      }
    },
    {
      "cell_type": "code",
      "source": [
        "user_query = \"How do you make Tonic Gins?\"  # question\n",
        "query_vector = embedding_model.embed_query(user_query)  # change to embedding\n",
        "\n",
        "# similarity search\n",
        "retrieved_docs = knowlegde_vector_db.similarity_search(query=user_query, k=5)\n",
        "retrieved_docs_text = [doc.page_content for doc in retrieved_docs]\n",
        "\n",
        "context = '\\nExtracted documents:\\n'\n",
        "context += \"\".join([f\"Document {str(i)}:::\\n\" + doc for i, doc in enumerate(retrieved_docs_text)])\n",
        "\n",
        "final_prompt = RAG_PROMPT_TEMPLATE.format(context=context, question=user_query) # add context to prompt\n",
        "\n",
        "answer = chat_llm(final_prompt)[0][\"generated_text\"]  # ask the model for final answer\n",
        "print(answer)"
      ],
      "metadata": {
        "colab": {
          "base_uri": "https://localhost:8080/"
        },
        "id": "3wQ65HQ_NPOE",
        "outputId": "bd60427e-ccf2-4a42-9ac3-b1def0a51d9d"
      },
      "execution_count": 18,
      "outputs": [
        {
          "output_type": "stream",
          "name": "stdout",
          "text": [
            "Based on the provided context and extracted documents, there is no specific recipe or instructions for making Tonic Gins. However, Document 1 mentions using vodka instead of gin in a Tonic variation, suggesting that Tonic Gins could potentially be made by substituting gin for vodka in a traditional Tonic recipe. Here's how you might make a basic Tonic Gin based on this information:\n",
            "\n",
            "Ingredients:\n",
            "- 2 oz gin\n",
            "- 3-5 oz tonic water\n",
            "- Lime wedge (optional)\n",
            "\n",
            "Directions:\n",
            "1. Fill a highball glass with ice.\n",
            "2. Pour gin over the ice.\n",
            "3. Add tonic water and stir gently.\n",
            "4. Squeeze a lime wedge over the drink (optional).\n",
            "5. Drop the lime wedge into the glass (optional).\n",
            "6. Enjoy your Tonic Gin!\n",
            "\n",
            "Note: The exact measurements for the gin and tonic water can be adjusted to personal preference. Some people prefer a stronger gin taste, while others prefer a more subtle one. It's all about finding the right balance for you.\n"
          ]
        }
      ]
    },
    {
      "cell_type": "markdown",
      "source": [
        "## Reranking 적용\n",
        "\n",
        "일반적으로 가져온 정보의 정확도를 높이기 위해서 1차적으로 많이 가져온 다음, 별도의 모델을 사용해서 가져온 데이터에 다시 순위를 매기는 과정을 거친다."
      ],
      "metadata": {
        "id": "gLl2qkpHfJy_"
      }
    },
    {
      "cell_type": "code",
      "source": [
        "from ragatouille import RAGPretrainedModel\n",
        "\n",
        "reranker = RAGPretrainedModel.from_pretrained(\"colbert-ir/colbertv2.0\")"
      ],
      "metadata": {
        "colab": {
          "base_uri": "https://localhost:8080/"
        },
        "id": "8anrkNNVP8--",
        "outputId": "8a09f260-785d-44b8-ae72-1cc068081d2a"
      },
      "execution_count": 19,
      "outputs": [
        {
          "output_type": "stream",
          "name": "stderr",
          "text": [
            "/usr/local/lib/python3.10/dist-packages/transformers/tokenization_utils_base.py:1601: FutureWarning: `clean_up_tokenization_spaces` was not set. It will be set to `True` by default. This behavior will be depracted in transformers v4.45, and will be then set to `False` by default. For more details check this issue: https://github.com/huggingface/transformers/issues/31884\n",
            "  warnings.warn(\n"
          ]
        }
      ]
    },
    {
      "cell_type": "code",
      "source": [
        "user_query = \"How do you make Tonic Gins?\"  # query\n",
        "query_vector = embedding_model.embed_query(user_query)  # change to embedding\n",
        "\n",
        "retrieved_docs = knowlegde_vector_db.similarity_search(query=user_query, k=10)  # search 10 documents initially\n",
        "retrieved_docs_text = [doc.page_content for doc in retrieved_docs]\n",
        "\n",
        "relevant_docs = reranker.rerank(user_query, retrieved_docs_text, k=3)  # rerank the documents and pick 3\n",
        "relevant_docs = [doc[\"content\"] for doc in relevant_docs]\n",
        "\n",
        "relevant_docs = relevant_docs[:3]\n",
        "\n",
        "context = '\\nExtracted documents:\\n'\n",
        "context += \"\".join([f\"Document {str(i)}:::\\n\" + doc for i, doc in enumerate(relevant_docs)])\n",
        "\n",
        "final_prompt = RAG_PROMPT_TEMPLATE.format(context=context, question=user_query)  # add context to template\n",
        "\n",
        "answer = chat_llm(final_prompt)[0][\"generated_text\"]  # generate final answer\n",
        "print(answer)"
      ],
      "metadata": {
        "colab": {
          "base_uri": "https://localhost:8080/"
        },
        "id": "aJVbR4gpQHBH",
        "outputId": "bfba11e2-9c2e-46b1-f138-e365e8ded92a"
      },
      "execution_count": 20,
      "outputs": [
        {
          "output_type": "stream",
          "name": "stderr",
          "text": [
            "100%|██████████| 1/1 [00:00<00:00, 30.12it/s]\n"
          ]
        },
        {
          "output_type": "stream",
          "name": "stdout",
          "text": [
            "Based on the provided context and extracted documents, there are two recipes for making Tonic Gins:\n",
            "\n",
            "1. Vodka Tonic (Document 0):\n",
            "   - Ingredients: Vodka, tonic water, lime wedges\n",
            "   - Directions: Rim a chilled highball glass with a lime wedge, fill with ice, pour in 2 oz of vodka, and top with 3-5 oz of chilled tonic water. Squeeze remaining lime wedges over the drink and drop them in.\n",
            "\n",
            "2. Imperial Gin (Document 2):\n",
            "   - Ingredients: Gin, fresh lemon juice, fresh lime juice, chilled club soda, lemon peel spiral\n",
            "   - Directions: Shake 2 oz of gin, 1 oz of fresh lemon juice, and 1 oz of fresh lime juice with ice. Strain into an ice-filled highball glass and top with 2-3 oz of chilled club soda. Garnish with a lemon peel spiral.\n",
            "\n",
            "Note that both recipes use tonic water as one of their main ingredients, which gives them a distinct Tonic flavor. However, in Document 0, the recipe suggests adding more lime juice for an extra refreshing taste, while in Document 2, the recipe includes fresh lemon and lime juices instead of just tonic water. Ultimately, the choice between these two recipes comes down to personal preference for the type of Tonic Gin desired.\n"
          ]
        }
      ]
    }
  ],
  "metadata": {
    "accelerator": "GPU",
    "colab": {
      "gpuType": "T4",
      "provenance": []
    },
    "kernelspec": {
      "display_name": "Python 3",
      "name": "python3"
    },
    "language_info": {
      "name": "python"
    },
    "widgets": {
      "application/vnd.jupyter.widget-state+json": {
        "26166143f37a4b68b100d3b6cd79f989": {
          "model_module": "@jupyter-widgets/controls",
          "model_name": "HBoxModel",
          "model_module_version": "1.5.0",
          "state": {
            "_dom_classes": [],
            "_model_module": "@jupyter-widgets/controls",
            "_model_module_version": "1.5.0",
            "_model_name": "HBoxModel",
            "_view_count": null,
            "_view_module": "@jupyter-widgets/controls",
            "_view_module_version": "1.5.0",
            "_view_name": "HBoxView",
            "box_style": "",
            "children": [
              "IPY_MODEL_cd7ae0f3a1ca4bdc9b0ab21e7aaf052f",
              "IPY_MODEL_56475bd0efe04072be98158a46c160f0",
              "IPY_MODEL_5c8613b9b9eb466086d08cb34480f897"
            ],
            "layout": "IPY_MODEL_2258266de66443eea65729f4206acbcf"
          }
        },
        "cd7ae0f3a1ca4bdc9b0ab21e7aaf052f": {
          "model_module": "@jupyter-widgets/controls",
          "model_name": "HTMLModel",
          "model_module_version": "1.5.0",
          "state": {
            "_dom_classes": [],
            "_model_module": "@jupyter-widgets/controls",
            "_model_module_version": "1.5.0",
            "_model_name": "HTMLModel",
            "_view_count": null,
            "_view_module": "@jupyter-widgets/controls",
            "_view_module_version": "1.5.0",
            "_view_name": "HTMLView",
            "description": "",
            "description_tooltip": null,
            "layout": "IPY_MODEL_79c3038139b84012a731e24599a12a9e",
            "placeholder": "​",
            "style": "IPY_MODEL_dadf820405194582860ca6e394c1a781",
            "value": "100%"
          }
        },
        "56475bd0efe04072be98158a46c160f0": {
          "model_module": "@jupyter-widgets/controls",
          "model_name": "FloatProgressModel",
          "model_module_version": "1.5.0",
          "state": {
            "_dom_classes": [],
            "_model_module": "@jupyter-widgets/controls",
            "_model_module_version": "1.5.0",
            "_model_name": "FloatProgressModel",
            "_view_count": null,
            "_view_module": "@jupyter-widgets/controls",
            "_view_module_version": "1.5.0",
            "_view_name": "ProgressView",
            "bar_style": "success",
            "description": "",
            "description_tooltip": null,
            "layout": "IPY_MODEL_a2f2e257444c47df857dabec6a38f9f0",
            "max": 875,
            "min": 0,
            "orientation": "horizontal",
            "style": "IPY_MODEL_17c32db9b4574972aac370a707533812",
            "value": 875
          }
        },
        "5c8613b9b9eb466086d08cb34480f897": {
          "model_module": "@jupyter-widgets/controls",
          "model_name": "HTMLModel",
          "model_module_version": "1.5.0",
          "state": {
            "_dom_classes": [],
            "_model_module": "@jupyter-widgets/controls",
            "_model_module_version": "1.5.0",
            "_model_name": "HTMLModel",
            "_view_count": null,
            "_view_module": "@jupyter-widgets/controls",
            "_view_module_version": "1.5.0",
            "_view_name": "HTMLView",
            "description": "",
            "description_tooltip": null,
            "layout": "IPY_MODEL_ee0ca2ca2f664567a61276fdae5019a0",
            "placeholder": "​",
            "style": "IPY_MODEL_9521b11ae320484cbefe5c03417d26e4",
            "value": " 875/875 [00:00&lt;00:00, 8786.00it/s]"
          }
        },
        "2258266de66443eea65729f4206acbcf": {
          "model_module": "@jupyter-widgets/base",
          "model_name": "LayoutModel",
          "model_module_version": "1.2.0",
          "state": {
            "_model_module": "@jupyter-widgets/base",
            "_model_module_version": "1.2.0",
            "_model_name": "LayoutModel",
            "_view_count": null,
            "_view_module": "@jupyter-widgets/base",
            "_view_module_version": "1.2.0",
            "_view_name": "LayoutView",
            "align_content": null,
            "align_items": null,
            "align_self": null,
            "border": null,
            "bottom": null,
            "display": null,
            "flex": null,
            "flex_flow": null,
            "grid_area": null,
            "grid_auto_columns": null,
            "grid_auto_flow": null,
            "grid_auto_rows": null,
            "grid_column": null,
            "grid_gap": null,
            "grid_row": null,
            "grid_template_areas": null,
            "grid_template_columns": null,
            "grid_template_rows": null,
            "height": null,
            "justify_content": null,
            "justify_items": null,
            "left": null,
            "margin": null,
            "max_height": null,
            "max_width": null,
            "min_height": null,
            "min_width": null,
            "object_fit": null,
            "object_position": null,
            "order": null,
            "overflow": null,
            "overflow_x": null,
            "overflow_y": null,
            "padding": null,
            "right": null,
            "top": null,
            "visibility": null,
            "width": null
          }
        },
        "79c3038139b84012a731e24599a12a9e": {
          "model_module": "@jupyter-widgets/base",
          "model_name": "LayoutModel",
          "model_module_version": "1.2.0",
          "state": {
            "_model_module": "@jupyter-widgets/base",
            "_model_module_version": "1.2.0",
            "_model_name": "LayoutModel",
            "_view_count": null,
            "_view_module": "@jupyter-widgets/base",
            "_view_module_version": "1.2.0",
            "_view_name": "LayoutView",
            "align_content": null,
            "align_items": null,
            "align_self": null,
            "border": null,
            "bottom": null,
            "display": null,
            "flex": null,
            "flex_flow": null,
            "grid_area": null,
            "grid_auto_columns": null,
            "grid_auto_flow": null,
            "grid_auto_rows": null,
            "grid_column": null,
            "grid_gap": null,
            "grid_row": null,
            "grid_template_areas": null,
            "grid_template_columns": null,
            "grid_template_rows": null,
            "height": null,
            "justify_content": null,
            "justify_items": null,
            "left": null,
            "margin": null,
            "max_height": null,
            "max_width": null,
            "min_height": null,
            "min_width": null,
            "object_fit": null,
            "object_position": null,
            "order": null,
            "overflow": null,
            "overflow_x": null,
            "overflow_y": null,
            "padding": null,
            "right": null,
            "top": null,
            "visibility": null,
            "width": null
          }
        },
        "dadf820405194582860ca6e394c1a781": {
          "model_module": "@jupyter-widgets/controls",
          "model_name": "DescriptionStyleModel",
          "model_module_version": "1.5.0",
          "state": {
            "_model_module": "@jupyter-widgets/controls",
            "_model_module_version": "1.5.0",
            "_model_name": "DescriptionStyleModel",
            "_view_count": null,
            "_view_module": "@jupyter-widgets/base",
            "_view_module_version": "1.2.0",
            "_view_name": "StyleView",
            "description_width": ""
          }
        },
        "a2f2e257444c47df857dabec6a38f9f0": {
          "model_module": "@jupyter-widgets/base",
          "model_name": "LayoutModel",
          "model_module_version": "1.2.0",
          "state": {
            "_model_module": "@jupyter-widgets/base",
            "_model_module_version": "1.2.0",
            "_model_name": "LayoutModel",
            "_view_count": null,
            "_view_module": "@jupyter-widgets/base",
            "_view_module_version": "1.2.0",
            "_view_name": "LayoutView",
            "align_content": null,
            "align_items": null,
            "align_self": null,
            "border": null,
            "bottom": null,
            "display": null,
            "flex": null,
            "flex_flow": null,
            "grid_area": null,
            "grid_auto_columns": null,
            "grid_auto_flow": null,
            "grid_auto_rows": null,
            "grid_column": null,
            "grid_gap": null,
            "grid_row": null,
            "grid_template_areas": null,
            "grid_template_columns": null,
            "grid_template_rows": null,
            "height": null,
            "justify_content": null,
            "justify_items": null,
            "left": null,
            "margin": null,
            "max_height": null,
            "max_width": null,
            "min_height": null,
            "min_width": null,
            "object_fit": null,
            "object_position": null,
            "order": null,
            "overflow": null,
            "overflow_x": null,
            "overflow_y": null,
            "padding": null,
            "right": null,
            "top": null,
            "visibility": null,
            "width": null
          }
        },
        "17c32db9b4574972aac370a707533812": {
          "model_module": "@jupyter-widgets/controls",
          "model_name": "ProgressStyleModel",
          "model_module_version": "1.5.0",
          "state": {
            "_model_module": "@jupyter-widgets/controls",
            "_model_module_version": "1.5.0",
            "_model_name": "ProgressStyleModel",
            "_view_count": null,
            "_view_module": "@jupyter-widgets/base",
            "_view_module_version": "1.2.0",
            "_view_name": "StyleView",
            "bar_color": null,
            "description_width": ""
          }
        },
        "ee0ca2ca2f664567a61276fdae5019a0": {
          "model_module": "@jupyter-widgets/base",
          "model_name": "LayoutModel",
          "model_module_version": "1.2.0",
          "state": {
            "_model_module": "@jupyter-widgets/base",
            "_model_module_version": "1.2.0",
            "_model_name": "LayoutModel",
            "_view_count": null,
            "_view_module": "@jupyter-widgets/base",
            "_view_module_version": "1.2.0",
            "_view_name": "LayoutView",
            "align_content": null,
            "align_items": null,
            "align_self": null,
            "border": null,
            "bottom": null,
            "display": null,
            "flex": null,
            "flex_flow": null,
            "grid_area": null,
            "grid_auto_columns": null,
            "grid_auto_flow": null,
            "grid_auto_rows": null,
            "grid_column": null,
            "grid_gap": null,
            "grid_row": null,
            "grid_template_areas": null,
            "grid_template_columns": null,
            "grid_template_rows": null,
            "height": null,
            "justify_content": null,
            "justify_items": null,
            "left": null,
            "margin": null,
            "max_height": null,
            "max_width": null,
            "min_height": null,
            "min_width": null,
            "object_fit": null,
            "object_position": null,
            "order": null,
            "overflow": null,
            "overflow_x": null,
            "overflow_y": null,
            "padding": null,
            "right": null,
            "top": null,
            "visibility": null,
            "width": null
          }
        },
        "9521b11ae320484cbefe5c03417d26e4": {
          "model_module": "@jupyter-widgets/controls",
          "model_name": "DescriptionStyleModel",
          "model_module_version": "1.5.0",
          "state": {
            "_model_module": "@jupyter-widgets/controls",
            "_model_module_version": "1.5.0",
            "_model_name": "DescriptionStyleModel",
            "_view_count": null,
            "_view_module": "@jupyter-widgets/base",
            "_view_module_version": "1.2.0",
            "_view_name": "StyleView",
            "description_width": ""
          }
        },
        "c62d11832def49e0b6e7a6f546ee421c": {
          "model_module": "@jupyter-widgets/controls",
          "model_name": "HBoxModel",
          "model_module_version": "1.5.0",
          "state": {
            "_dom_classes": [],
            "_model_module": "@jupyter-widgets/controls",
            "_model_module_version": "1.5.0",
            "_model_name": "HBoxModel",
            "_view_count": null,
            "_view_module": "@jupyter-widgets/controls",
            "_view_module_version": "1.5.0",
            "_view_name": "HBoxView",
            "box_style": "",
            "children": [
              "IPY_MODEL_1b0771f891ee4fb49aa01f5a0a75c555",
              "IPY_MODEL_56032e9983fc4340afa2125ccb192540",
              "IPY_MODEL_09faa854d9604558bbde5153c84c75c8"
            ],
            "layout": "IPY_MODEL_984c2853f42b4017b3e312ced1ad3484"
          }
        },
        "1b0771f891ee4fb49aa01f5a0a75c555": {
          "model_module": "@jupyter-widgets/controls",
          "model_name": "HTMLModel",
          "model_module_version": "1.5.0",
          "state": {
            "_dom_classes": [],
            "_model_module": "@jupyter-widgets/controls",
            "_model_module_version": "1.5.0",
            "_model_name": "HTMLModel",
            "_view_count": null,
            "_view_module": "@jupyter-widgets/controls",
            "_view_module_version": "1.5.0",
            "_view_name": "HTMLView",
            "description": "",
            "description_tooltip": null,
            "layout": "IPY_MODEL_7cb8e46efa93416abe11bf1e4eb2a348",
            "placeholder": "​",
            "style": "IPY_MODEL_8d4027f82b234243b643b91bfb227972",
            "value": "100%"
          }
        },
        "56032e9983fc4340afa2125ccb192540": {
          "model_module": "@jupyter-widgets/controls",
          "model_name": "FloatProgressModel",
          "model_module_version": "1.5.0",
          "state": {
            "_dom_classes": [],
            "_model_module": "@jupyter-widgets/controls",
            "_model_module_version": "1.5.0",
            "_model_name": "FloatProgressModel",
            "_view_count": null,
            "_view_module": "@jupyter-widgets/controls",
            "_view_module_version": "1.5.0",
            "_view_name": "ProgressView",
            "bar_style": "success",
            "description": "",
            "description_tooltip": null,
            "layout": "IPY_MODEL_c9d156620bb548358bc93d246ec5d707",
            "max": 721,
            "min": 0,
            "orientation": "horizontal",
            "style": "IPY_MODEL_b3d27ee2ade7444eaf124e929ea388dc",
            "value": 721
          }
        },
        "09faa854d9604558bbde5153c84c75c8": {
          "model_module": "@jupyter-widgets/controls",
          "model_name": "HTMLModel",
          "model_module_version": "1.5.0",
          "state": {
            "_dom_classes": [],
            "_model_module": "@jupyter-widgets/controls",
            "_model_module_version": "1.5.0",
            "_model_name": "HTMLModel",
            "_view_count": null,
            "_view_module": "@jupyter-widgets/controls",
            "_view_module_version": "1.5.0",
            "_view_name": "HTMLView",
            "description": "",
            "description_tooltip": null,
            "layout": "IPY_MODEL_3b80d1aedec64f4cb7a325c8cec440cc",
            "placeholder": "​",
            "style": "IPY_MODEL_b6186a4043bb4913a55cefb7c9041dca",
            "value": " 721/721 [00:00&lt;00:00, 47121.87it/s]"
          }
        },
        "984c2853f42b4017b3e312ced1ad3484": {
          "model_module": "@jupyter-widgets/base",
          "model_name": "LayoutModel",
          "model_module_version": "1.2.0",
          "state": {
            "_model_module": "@jupyter-widgets/base",
            "_model_module_version": "1.2.0",
            "_model_name": "LayoutModel",
            "_view_count": null,
            "_view_module": "@jupyter-widgets/base",
            "_view_module_version": "1.2.0",
            "_view_name": "LayoutView",
            "align_content": null,
            "align_items": null,
            "align_self": null,
            "border": null,
            "bottom": null,
            "display": null,
            "flex": null,
            "flex_flow": null,
            "grid_area": null,
            "grid_auto_columns": null,
            "grid_auto_flow": null,
            "grid_auto_rows": null,
            "grid_column": null,
            "grid_gap": null,
            "grid_row": null,
            "grid_template_areas": null,
            "grid_template_columns": null,
            "grid_template_rows": null,
            "height": null,
            "justify_content": null,
            "justify_items": null,
            "left": null,
            "margin": null,
            "max_height": null,
            "max_width": null,
            "min_height": null,
            "min_width": null,
            "object_fit": null,
            "object_position": null,
            "order": null,
            "overflow": null,
            "overflow_x": null,
            "overflow_y": null,
            "padding": null,
            "right": null,
            "top": null,
            "visibility": null,
            "width": null
          }
        },
        "7cb8e46efa93416abe11bf1e4eb2a348": {
          "model_module": "@jupyter-widgets/base",
          "model_name": "LayoutModel",
          "model_module_version": "1.2.0",
          "state": {
            "_model_module": "@jupyter-widgets/base",
            "_model_module_version": "1.2.0",
            "_model_name": "LayoutModel",
            "_view_count": null,
            "_view_module": "@jupyter-widgets/base",
            "_view_module_version": "1.2.0",
            "_view_name": "LayoutView",
            "align_content": null,
            "align_items": null,
            "align_self": null,
            "border": null,
            "bottom": null,
            "display": null,
            "flex": null,
            "flex_flow": null,
            "grid_area": null,
            "grid_auto_columns": null,
            "grid_auto_flow": null,
            "grid_auto_rows": null,
            "grid_column": null,
            "grid_gap": null,
            "grid_row": null,
            "grid_template_areas": null,
            "grid_template_columns": null,
            "grid_template_rows": null,
            "height": null,
            "justify_content": null,
            "justify_items": null,
            "left": null,
            "margin": null,
            "max_height": null,
            "max_width": null,
            "min_height": null,
            "min_width": null,
            "object_fit": null,
            "object_position": null,
            "order": null,
            "overflow": null,
            "overflow_x": null,
            "overflow_y": null,
            "padding": null,
            "right": null,
            "top": null,
            "visibility": null,
            "width": null
          }
        },
        "8d4027f82b234243b643b91bfb227972": {
          "model_module": "@jupyter-widgets/controls",
          "model_name": "DescriptionStyleModel",
          "model_module_version": "1.5.0",
          "state": {
            "_model_module": "@jupyter-widgets/controls",
            "_model_module_version": "1.5.0",
            "_model_name": "DescriptionStyleModel",
            "_view_count": null,
            "_view_module": "@jupyter-widgets/base",
            "_view_module_version": "1.2.0",
            "_view_name": "StyleView",
            "description_width": ""
          }
        },
        "c9d156620bb548358bc93d246ec5d707": {
          "model_module": "@jupyter-widgets/base",
          "model_name": "LayoutModel",
          "model_module_version": "1.2.0",
          "state": {
            "_model_module": "@jupyter-widgets/base",
            "_model_module_version": "1.2.0",
            "_model_name": "LayoutModel",
            "_view_count": null,
            "_view_module": "@jupyter-widgets/base",
            "_view_module_version": "1.2.0",
            "_view_name": "LayoutView",
            "align_content": null,
            "align_items": null,
            "align_self": null,
            "border": null,
            "bottom": null,
            "display": null,
            "flex": null,
            "flex_flow": null,
            "grid_area": null,
            "grid_auto_columns": null,
            "grid_auto_flow": null,
            "grid_auto_rows": null,
            "grid_column": null,
            "grid_gap": null,
            "grid_row": null,
            "grid_template_areas": null,
            "grid_template_columns": null,
            "grid_template_rows": null,
            "height": null,
            "justify_content": null,
            "justify_items": null,
            "left": null,
            "margin": null,
            "max_height": null,
            "max_width": null,
            "min_height": null,
            "min_width": null,
            "object_fit": null,
            "object_position": null,
            "order": null,
            "overflow": null,
            "overflow_x": null,
            "overflow_y": null,
            "padding": null,
            "right": null,
            "top": null,
            "visibility": null,
            "width": null
          }
        },
        "b3d27ee2ade7444eaf124e929ea388dc": {
          "model_module": "@jupyter-widgets/controls",
          "model_name": "ProgressStyleModel",
          "model_module_version": "1.5.0",
          "state": {
            "_model_module": "@jupyter-widgets/controls",
            "_model_module_version": "1.5.0",
            "_model_name": "ProgressStyleModel",
            "_view_count": null,
            "_view_module": "@jupyter-widgets/base",
            "_view_module_version": "1.2.0",
            "_view_name": "StyleView",
            "bar_color": null,
            "description_width": ""
          }
        },
        "3b80d1aedec64f4cb7a325c8cec440cc": {
          "model_module": "@jupyter-widgets/base",
          "model_name": "LayoutModel",
          "model_module_version": "1.2.0",
          "state": {
            "_model_module": "@jupyter-widgets/base",
            "_model_module_version": "1.2.0",
            "_model_name": "LayoutModel",
            "_view_count": null,
            "_view_module": "@jupyter-widgets/base",
            "_view_module_version": "1.2.0",
            "_view_name": "LayoutView",
            "align_content": null,
            "align_items": null,
            "align_self": null,
            "border": null,
            "bottom": null,
            "display": null,
            "flex": null,
            "flex_flow": null,
            "grid_area": null,
            "grid_auto_columns": null,
            "grid_auto_flow": null,
            "grid_auto_rows": null,
            "grid_column": null,
            "grid_gap": null,
            "grid_row": null,
            "grid_template_areas": null,
            "grid_template_columns": null,
            "grid_template_rows": null,
            "height": null,
            "justify_content": null,
            "justify_items": null,
            "left": null,
            "margin": null,
            "max_height": null,
            "max_width": null,
            "min_height": null,
            "min_width": null,
            "object_fit": null,
            "object_position": null,
            "order": null,
            "overflow": null,
            "overflow_x": null,
            "overflow_y": null,
            "padding": null,
            "right": null,
            "top": null,
            "visibility": null,
            "width": null
          }
        },
        "b6186a4043bb4913a55cefb7c9041dca": {
          "model_module": "@jupyter-widgets/controls",
          "model_name": "DescriptionStyleModel",
          "model_module_version": "1.5.0",
          "state": {
            "_model_module": "@jupyter-widgets/controls",
            "_model_module_version": "1.5.0",
            "_model_name": "DescriptionStyleModel",
            "_view_count": null,
            "_view_module": "@jupyter-widgets/base",
            "_view_module_version": "1.2.0",
            "_view_name": "StyleView",
            "description_width": ""
          }
        },
        "f39a85dd8df34c6b9fb7e6e5b15c2d68": {
          "model_module": "@jupyter-widgets/controls",
          "model_name": "HBoxModel",
          "model_module_version": "1.5.0",
          "state": {
            "_dom_classes": [],
            "_model_module": "@jupyter-widgets/controls",
            "_model_module_version": "1.5.0",
            "_model_name": "HBoxModel",
            "_view_count": null,
            "_view_module": "@jupyter-widgets/controls",
            "_view_module_version": "1.5.0",
            "_view_name": "HBoxView",
            "box_style": "",
            "children": [
              "IPY_MODEL_2976337331374d2daaa7930beddcb9bd",
              "IPY_MODEL_359c199ed3504bca82e19a6633ea01cc",
              "IPY_MODEL_fc9a2efa73be4ba08fc6cd9ad903a6fc"
            ],
            "layout": "IPY_MODEL_500269f2f3d94c198982dd815dc7b646"
          }
        },
        "2976337331374d2daaa7930beddcb9bd": {
          "model_module": "@jupyter-widgets/controls",
          "model_name": "HTMLModel",
          "model_module_version": "1.5.0",
          "state": {
            "_dom_classes": [],
            "_model_module": "@jupyter-widgets/controls",
            "_model_module_version": "1.5.0",
            "_model_name": "HTMLModel",
            "_view_count": null,
            "_view_module": "@jupyter-widgets/controls",
            "_view_module_version": "1.5.0",
            "_view_name": "HTMLView",
            "description": "",
            "description_tooltip": null,
            "layout": "IPY_MODEL_d5b5c3e1d4764f30801b00354472fe12",
            "placeholder": "​",
            "style": "IPY_MODEL_8b410623ad7244e8a6e2e7e1ab2a7df3",
            "value": "100%"
          }
        },
        "359c199ed3504bca82e19a6633ea01cc": {
          "model_module": "@jupyter-widgets/controls",
          "model_name": "FloatProgressModel",
          "model_module_version": "1.5.0",
          "state": {
            "_dom_classes": [],
            "_model_module": "@jupyter-widgets/controls",
            "_model_module_version": "1.5.0",
            "_model_name": "FloatProgressModel",
            "_view_count": null,
            "_view_module": "@jupyter-widgets/controls",
            "_view_module_version": "1.5.0",
            "_view_name": "ProgressView",
            "bar_style": "success",
            "description": "",
            "description_tooltip": null,
            "layout": "IPY_MODEL_548769e62e3641818cd1aae100641f59",
            "max": 721,
            "min": 0,
            "orientation": "horizontal",
            "style": "IPY_MODEL_d897153e94bf453cbac48b420c29b3c3",
            "value": 721
          }
        },
        "fc9a2efa73be4ba08fc6cd9ad903a6fc": {
          "model_module": "@jupyter-widgets/controls",
          "model_name": "HTMLModel",
          "model_module_version": "1.5.0",
          "state": {
            "_dom_classes": [],
            "_model_module": "@jupyter-widgets/controls",
            "_model_module_version": "1.5.0",
            "_model_name": "HTMLModel",
            "_view_count": null,
            "_view_module": "@jupyter-widgets/controls",
            "_view_module_version": "1.5.0",
            "_view_name": "HTMLView",
            "description": "",
            "description_tooltip": null,
            "layout": "IPY_MODEL_bf54917d81134f0ca3f489335957490d",
            "placeholder": "​",
            "style": "IPY_MODEL_92960b1d7d7843b3ba7b705ab29d27ab",
            "value": " 721/721 [00:00&lt;00:00, 2961.23it/s]"
          }
        },
        "500269f2f3d94c198982dd815dc7b646": {
          "model_module": "@jupyter-widgets/base",
          "model_name": "LayoutModel",
          "model_module_version": "1.2.0",
          "state": {
            "_model_module": "@jupyter-widgets/base",
            "_model_module_version": "1.2.0",
            "_model_name": "LayoutModel",
            "_view_count": null,
            "_view_module": "@jupyter-widgets/base",
            "_view_module_version": "1.2.0",
            "_view_name": "LayoutView",
            "align_content": null,
            "align_items": null,
            "align_self": null,
            "border": null,
            "bottom": null,
            "display": null,
            "flex": null,
            "flex_flow": null,
            "grid_area": null,
            "grid_auto_columns": null,
            "grid_auto_flow": null,
            "grid_auto_rows": null,
            "grid_column": null,
            "grid_gap": null,
            "grid_row": null,
            "grid_template_areas": null,
            "grid_template_columns": null,
            "grid_template_rows": null,
            "height": null,
            "justify_content": null,
            "justify_items": null,
            "left": null,
            "margin": null,
            "max_height": null,
            "max_width": null,
            "min_height": null,
            "min_width": null,
            "object_fit": null,
            "object_position": null,
            "order": null,
            "overflow": null,
            "overflow_x": null,
            "overflow_y": null,
            "padding": null,
            "right": null,
            "top": null,
            "visibility": null,
            "width": null
          }
        },
        "d5b5c3e1d4764f30801b00354472fe12": {
          "model_module": "@jupyter-widgets/base",
          "model_name": "LayoutModel",
          "model_module_version": "1.2.0",
          "state": {
            "_model_module": "@jupyter-widgets/base",
            "_model_module_version": "1.2.0",
            "_model_name": "LayoutModel",
            "_view_count": null,
            "_view_module": "@jupyter-widgets/base",
            "_view_module_version": "1.2.0",
            "_view_name": "LayoutView",
            "align_content": null,
            "align_items": null,
            "align_self": null,
            "border": null,
            "bottom": null,
            "display": null,
            "flex": null,
            "flex_flow": null,
            "grid_area": null,
            "grid_auto_columns": null,
            "grid_auto_flow": null,
            "grid_auto_rows": null,
            "grid_column": null,
            "grid_gap": null,
            "grid_row": null,
            "grid_template_areas": null,
            "grid_template_columns": null,
            "grid_template_rows": null,
            "height": null,
            "justify_content": null,
            "justify_items": null,
            "left": null,
            "margin": null,
            "max_height": null,
            "max_width": null,
            "min_height": null,
            "min_width": null,
            "object_fit": null,
            "object_position": null,
            "order": null,
            "overflow": null,
            "overflow_x": null,
            "overflow_y": null,
            "padding": null,
            "right": null,
            "top": null,
            "visibility": null,
            "width": null
          }
        },
        "8b410623ad7244e8a6e2e7e1ab2a7df3": {
          "model_module": "@jupyter-widgets/controls",
          "model_name": "DescriptionStyleModel",
          "model_module_version": "1.5.0",
          "state": {
            "_model_module": "@jupyter-widgets/controls",
            "_model_module_version": "1.5.0",
            "_model_name": "DescriptionStyleModel",
            "_view_count": null,
            "_view_module": "@jupyter-widgets/base",
            "_view_module_version": "1.2.0",
            "_view_name": "StyleView",
            "description_width": ""
          }
        },
        "548769e62e3641818cd1aae100641f59": {
          "model_module": "@jupyter-widgets/base",
          "model_name": "LayoutModel",
          "model_module_version": "1.2.0",
          "state": {
            "_model_module": "@jupyter-widgets/base",
            "_model_module_version": "1.2.0",
            "_model_name": "LayoutModel",
            "_view_count": null,
            "_view_module": "@jupyter-widgets/base",
            "_view_module_version": "1.2.0",
            "_view_name": "LayoutView",
            "align_content": null,
            "align_items": null,
            "align_self": null,
            "border": null,
            "bottom": null,
            "display": null,
            "flex": null,
            "flex_flow": null,
            "grid_area": null,
            "grid_auto_columns": null,
            "grid_auto_flow": null,
            "grid_auto_rows": null,
            "grid_column": null,
            "grid_gap": null,
            "grid_row": null,
            "grid_template_areas": null,
            "grid_template_columns": null,
            "grid_template_rows": null,
            "height": null,
            "justify_content": null,
            "justify_items": null,
            "left": null,
            "margin": null,
            "max_height": null,
            "max_width": null,
            "min_height": null,
            "min_width": null,
            "object_fit": null,
            "object_position": null,
            "order": null,
            "overflow": null,
            "overflow_x": null,
            "overflow_y": null,
            "padding": null,
            "right": null,
            "top": null,
            "visibility": null,
            "width": null
          }
        },
        "d897153e94bf453cbac48b420c29b3c3": {
          "model_module": "@jupyter-widgets/controls",
          "model_name": "ProgressStyleModel",
          "model_module_version": "1.5.0",
          "state": {
            "_model_module": "@jupyter-widgets/controls",
            "_model_module_version": "1.5.0",
            "_model_name": "ProgressStyleModel",
            "_view_count": null,
            "_view_module": "@jupyter-widgets/base",
            "_view_module_version": "1.2.0",
            "_view_name": "StyleView",
            "bar_color": null,
            "description_width": ""
          }
        },
        "bf54917d81134f0ca3f489335957490d": {
          "model_module": "@jupyter-widgets/base",
          "model_name": "LayoutModel",
          "model_module_version": "1.2.0",
          "state": {
            "_model_module": "@jupyter-widgets/base",
            "_model_module_version": "1.2.0",
            "_model_name": "LayoutModel",
            "_view_count": null,
            "_view_module": "@jupyter-widgets/base",
            "_view_module_version": "1.2.0",
            "_view_name": "LayoutView",
            "align_content": null,
            "align_items": null,
            "align_self": null,
            "border": null,
            "bottom": null,
            "display": null,
            "flex": null,
            "flex_flow": null,
            "grid_area": null,
            "grid_auto_columns": null,
            "grid_auto_flow": null,
            "grid_auto_rows": null,
            "grid_column": null,
            "grid_gap": null,
            "grid_row": null,
            "grid_template_areas": null,
            "grid_template_columns": null,
            "grid_template_rows": null,
            "height": null,
            "justify_content": null,
            "justify_items": null,
            "left": null,
            "margin": null,
            "max_height": null,
            "max_width": null,
            "min_height": null,
            "min_width": null,
            "object_fit": null,
            "object_position": null,
            "order": null,
            "overflow": null,
            "overflow_x": null,
            "overflow_y": null,
            "padding": null,
            "right": null,
            "top": null,
            "visibility": null,
            "width": null
          }
        },
        "92960b1d7d7843b3ba7b705ab29d27ab": {
          "model_module": "@jupyter-widgets/controls",
          "model_name": "DescriptionStyleModel",
          "model_module_version": "1.5.0",
          "state": {
            "_model_module": "@jupyter-widgets/controls",
            "_model_module_version": "1.5.0",
            "_model_name": "DescriptionStyleModel",
            "_view_count": null,
            "_view_module": "@jupyter-widgets/base",
            "_view_module_version": "1.2.0",
            "_view_name": "StyleView",
            "description_width": ""
          }
        },
        "ffa16e82f2f1479eb1803140b8014da6": {
          "model_module": "@jupyter-widgets/controls",
          "model_name": "HBoxModel",
          "model_module_version": "1.5.0",
          "state": {
            "_dom_classes": [],
            "_model_module": "@jupyter-widgets/controls",
            "_model_module_version": "1.5.0",
            "_model_name": "HBoxModel",
            "_view_count": null,
            "_view_module": "@jupyter-widgets/controls",
            "_view_module_version": "1.5.0",
            "_view_name": "HBoxView",
            "box_style": "",
            "children": [
              "IPY_MODEL_e4a82377adc34f078963ddfb45624c9f",
              "IPY_MODEL_15a0c2bb928a49e49a8991e6ddb32eb5",
              "IPY_MODEL_61fb642da86b4fb2b5dbc2d12537502b"
            ],
            "layout": "IPY_MODEL_36c270d1906d45a3b2cd29833af6e10f"
          }
        },
        "e4a82377adc34f078963ddfb45624c9f": {
          "model_module": "@jupyter-widgets/controls",
          "model_name": "HTMLModel",
          "model_module_version": "1.5.0",
          "state": {
            "_dom_classes": [],
            "_model_module": "@jupyter-widgets/controls",
            "_model_module_version": "1.5.0",
            "_model_name": "HTMLModel",
            "_view_count": null,
            "_view_module": "@jupyter-widgets/controls",
            "_view_module_version": "1.5.0",
            "_view_name": "HTMLView",
            "description": "",
            "description_tooltip": null,
            "layout": "IPY_MODEL_d6b99500664b4df28459fb0419c3ff72",
            "placeholder": "​",
            "style": "IPY_MODEL_1f43750bef92450590eb75c77100ea5b",
            "value": "Loading checkpoint shards: 100%"
          }
        },
        "15a0c2bb928a49e49a8991e6ddb32eb5": {
          "model_module": "@jupyter-widgets/controls",
          "model_name": "FloatProgressModel",
          "model_module_version": "1.5.0",
          "state": {
            "_dom_classes": [],
            "_model_module": "@jupyter-widgets/controls",
            "_model_module_version": "1.5.0",
            "_model_name": "FloatProgressModel",
            "_view_count": null,
            "_view_module": "@jupyter-widgets/controls",
            "_view_module_version": "1.5.0",
            "_view_name": "ProgressView",
            "bar_style": "success",
            "description": "",
            "description_tooltip": null,
            "layout": "IPY_MODEL_a83ba8be45f34ee48ed3f07daf3464dd",
            "max": 8,
            "min": 0,
            "orientation": "horizontal",
            "style": "IPY_MODEL_b74017927cbc4853bb83df531fcaa535",
            "value": 8
          }
        },
        "61fb642da86b4fb2b5dbc2d12537502b": {
          "model_module": "@jupyter-widgets/controls",
          "model_name": "HTMLModel",
          "model_module_version": "1.5.0",
          "state": {
            "_dom_classes": [],
            "_model_module": "@jupyter-widgets/controls",
            "_model_module_version": "1.5.0",
            "_model_name": "HTMLModel",
            "_view_count": null,
            "_view_module": "@jupyter-widgets/controls",
            "_view_module_version": "1.5.0",
            "_view_name": "HTMLView",
            "description": "",
            "description_tooltip": null,
            "layout": "IPY_MODEL_3eac641657314ae288341a38684063d1",
            "placeholder": "​",
            "style": "IPY_MODEL_cea8bda7ffc242e5bd8129774670554c",
            "value": " 8/8 [01:17&lt;00:00,  8.10s/it]"
          }
        },
        "36c270d1906d45a3b2cd29833af6e10f": {
          "model_module": "@jupyter-widgets/base",
          "model_name": "LayoutModel",
          "model_module_version": "1.2.0",
          "state": {
            "_model_module": "@jupyter-widgets/base",
            "_model_module_version": "1.2.0",
            "_model_name": "LayoutModel",
            "_view_count": null,
            "_view_module": "@jupyter-widgets/base",
            "_view_module_version": "1.2.0",
            "_view_name": "LayoutView",
            "align_content": null,
            "align_items": null,
            "align_self": null,
            "border": null,
            "bottom": null,
            "display": null,
            "flex": null,
            "flex_flow": null,
            "grid_area": null,
            "grid_auto_columns": null,
            "grid_auto_flow": null,
            "grid_auto_rows": null,
            "grid_column": null,
            "grid_gap": null,
            "grid_row": null,
            "grid_template_areas": null,
            "grid_template_columns": null,
            "grid_template_rows": null,
            "height": null,
            "justify_content": null,
            "justify_items": null,
            "left": null,
            "margin": null,
            "max_height": null,
            "max_width": null,
            "min_height": null,
            "min_width": null,
            "object_fit": null,
            "object_position": null,
            "order": null,
            "overflow": null,
            "overflow_x": null,
            "overflow_y": null,
            "padding": null,
            "right": null,
            "top": null,
            "visibility": null,
            "width": null
          }
        },
        "d6b99500664b4df28459fb0419c3ff72": {
          "model_module": "@jupyter-widgets/base",
          "model_name": "LayoutModel",
          "model_module_version": "1.2.0",
          "state": {
            "_model_module": "@jupyter-widgets/base",
            "_model_module_version": "1.2.0",
            "_model_name": "LayoutModel",
            "_view_count": null,
            "_view_module": "@jupyter-widgets/base",
            "_view_module_version": "1.2.0",
            "_view_name": "LayoutView",
            "align_content": null,
            "align_items": null,
            "align_self": null,
            "border": null,
            "bottom": null,
            "display": null,
            "flex": null,
            "flex_flow": null,
            "grid_area": null,
            "grid_auto_columns": null,
            "grid_auto_flow": null,
            "grid_auto_rows": null,
            "grid_column": null,
            "grid_gap": null,
            "grid_row": null,
            "grid_template_areas": null,
            "grid_template_columns": null,
            "grid_template_rows": null,
            "height": null,
            "justify_content": null,
            "justify_items": null,
            "left": null,
            "margin": null,
            "max_height": null,
            "max_width": null,
            "min_height": null,
            "min_width": null,
            "object_fit": null,
            "object_position": null,
            "order": null,
            "overflow": null,
            "overflow_x": null,
            "overflow_y": null,
            "padding": null,
            "right": null,
            "top": null,
            "visibility": null,
            "width": null
          }
        },
        "1f43750bef92450590eb75c77100ea5b": {
          "model_module": "@jupyter-widgets/controls",
          "model_name": "DescriptionStyleModel",
          "model_module_version": "1.5.0",
          "state": {
            "_model_module": "@jupyter-widgets/controls",
            "_model_module_version": "1.5.0",
            "_model_name": "DescriptionStyleModel",
            "_view_count": null,
            "_view_module": "@jupyter-widgets/base",
            "_view_module_version": "1.2.0",
            "_view_name": "StyleView",
            "description_width": ""
          }
        },
        "a83ba8be45f34ee48ed3f07daf3464dd": {
          "model_module": "@jupyter-widgets/base",
          "model_name": "LayoutModel",
          "model_module_version": "1.2.0",
          "state": {
            "_model_module": "@jupyter-widgets/base",
            "_model_module_version": "1.2.0",
            "_model_name": "LayoutModel",
            "_view_count": null,
            "_view_module": "@jupyter-widgets/base",
            "_view_module_version": "1.2.0",
            "_view_name": "LayoutView",
            "align_content": null,
            "align_items": null,
            "align_self": null,
            "border": null,
            "bottom": null,
            "display": null,
            "flex": null,
            "flex_flow": null,
            "grid_area": null,
            "grid_auto_columns": null,
            "grid_auto_flow": null,
            "grid_auto_rows": null,
            "grid_column": null,
            "grid_gap": null,
            "grid_row": null,
            "grid_template_areas": null,
            "grid_template_columns": null,
            "grid_template_rows": null,
            "height": null,
            "justify_content": null,
            "justify_items": null,
            "left": null,
            "margin": null,
            "max_height": null,
            "max_width": null,
            "min_height": null,
            "min_width": null,
            "object_fit": null,
            "object_position": null,
            "order": null,
            "overflow": null,
            "overflow_x": null,
            "overflow_y": null,
            "padding": null,
            "right": null,
            "top": null,
            "visibility": null,
            "width": null
          }
        },
        "b74017927cbc4853bb83df531fcaa535": {
          "model_module": "@jupyter-widgets/controls",
          "model_name": "ProgressStyleModel",
          "model_module_version": "1.5.0",
          "state": {
            "_model_module": "@jupyter-widgets/controls",
            "_model_module_version": "1.5.0",
            "_model_name": "ProgressStyleModel",
            "_view_count": null,
            "_view_module": "@jupyter-widgets/base",
            "_view_module_version": "1.2.0",
            "_view_name": "StyleView",
            "bar_color": null,
            "description_width": ""
          }
        },
        "3eac641657314ae288341a38684063d1": {
          "model_module": "@jupyter-widgets/base",
          "model_name": "LayoutModel",
          "model_module_version": "1.2.0",
          "state": {
            "_model_module": "@jupyter-widgets/base",
            "_model_module_version": "1.2.0",
            "_model_name": "LayoutModel",
            "_view_count": null,
            "_view_module": "@jupyter-widgets/base",
            "_view_module_version": "1.2.0",
            "_view_name": "LayoutView",
            "align_content": null,
            "align_items": null,
            "align_self": null,
            "border": null,
            "bottom": null,
            "display": null,
            "flex": null,
            "flex_flow": null,
            "grid_area": null,
            "grid_auto_columns": null,
            "grid_auto_flow": null,
            "grid_auto_rows": null,
            "grid_column": null,
            "grid_gap": null,
            "grid_row": null,
            "grid_template_areas": null,
            "grid_template_columns": null,
            "grid_template_rows": null,
            "height": null,
            "justify_content": null,
            "justify_items": null,
            "left": null,
            "margin": null,
            "max_height": null,
            "max_width": null,
            "min_height": null,
            "min_width": null,
            "object_fit": null,
            "object_position": null,
            "order": null,
            "overflow": null,
            "overflow_x": null,
            "overflow_y": null,
            "padding": null,
            "right": null,
            "top": null,
            "visibility": null,
            "width": null
          }
        },
        "cea8bda7ffc242e5bd8129774670554c": {
          "model_module": "@jupyter-widgets/controls",
          "model_name": "DescriptionStyleModel",
          "model_module_version": "1.5.0",
          "state": {
            "_model_module": "@jupyter-widgets/controls",
            "_model_module_version": "1.5.0",
            "_model_name": "DescriptionStyleModel",
            "_view_count": null,
            "_view_module": "@jupyter-widgets/base",
            "_view_module_version": "1.2.0",
            "_view_name": "StyleView",
            "description_width": ""
          }
        }
      }
    }
  },
  "nbformat": 4,
  "nbformat_minor": 0
}